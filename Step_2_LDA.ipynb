{
 "cells": [
  {
   "cell_type": "markdown",
   "metadata": {},
   "source": [
    "<h1>Data preprocessing!</h1>"
   ]
  },
  {
   "cell_type": "code",
   "execution_count": 14,
   "metadata": {},
   "outputs": [],
   "source": [
    "# Usual import\n",
    "from pprint import pprint\n",
    "from pandas import DataFrame\n",
    "import numpy as np\n",
    "import pandas as pd\n",
    "from tqdm import tqdm\n",
    "import string\n",
    "import ast\n",
    "import os\n",
    "\n",
    "# Gensim\n",
    "import gensim\n",
    "import gensim.corpora as corpora\n",
    "from gensim.models.coherencemodel import CoherenceModel\n",
    "from gensim.models.ldamodel import LdaModel\n",
    "from gensim.corpora.dictionary import Dictionary\n",
    "from gensim.utils import simple_preprocess\n",
    "\n"
   ]
  },
  {
   "cell_type": "code",
   "execution_count": 4,
   "metadata": {},
   "outputs": [],
   "source": [
    "with open(\"C:/Users/Iro Sfoungari/Desktop/THESIS DATA/FINAL_DATABASE/Step_1_Data_Lemmatized.txt\", 'r',encoding='utf-8') as f:\n",
    "    data_lemmatized = [ast.literal_eval(line.strip()) for line in f]"
   ]
  },
  {
   "cell_type": "code",
   "execution_count": 5,
   "metadata": {},
   "outputs": [
    {
     "name": "stdout",
     "output_type": "stream",
     "text": [
      "['objective', 'retrospective_chart_review', 'describe', 'epidemiology', 'clinical', 'feature', 'patient', 'culture', 'prove', 'mycoplasma_pneumoniae', 'infection', 'king_abdulaziz_university', 'hospital', 'jeddah_saudi_arabia', 'method', 'patient', 'positive', 'pneumoniae', 'culture', 'respiratory', 'specimen', 'january', 'december', 'identify', 'microbiology', 'record', 'chart', 'patient', 'review', 'result', 'patient', 'identify', 'required', 'admission', 'infection', 'community_acquired', 'infection', 'affect', 'age', 'group', 'common', 'infant', 'pre', 'school', 'child', 'occur', 'year', 'round', 'common', 'fall', 'spring', 'quarter', 'patient', 'comorbiditie', 'isolate', 'associate', 'pneumonia', 'upper', 'respiratory', 'tract', 'infection', 'bronchiolitis', 'cough_fever', 'malaise', 'common', 'symptom', 'crepitation', 'wheeze', 'common', 'sign', 'patient', 'pneumonia', 'crepitation', 'bronchial', 'breathing', 'patient', 'likely', 'non', 'patient', 'present', 'pneumonia', 'versus', 'patient', 'pneumonia', 'uneventful_recovery', 'recover', 'follow', 'complication', 'die', 'pneumoniae', 'infection', 'die', 'underlie', 'comorbiditie', 'patient', 'die', 'pneumoniae', 'pneumonia', 'comorbiditie', 'conclusion', 'result', 'similar', 'publish', 'datum', 'find', 'infection', 'common', 'infant', 'preschool', 'child', 'mortality', 'rate', 'pneumonia', 'patient', 'comorbiditie', 'high']\n"
     ]
    }
   ],
   "source": [
    "print(data_lemmatized[0])"
   ]
  },
  {
   "cell_type": "code",
   "execution_count": 13,
   "metadata": {},
   "outputs": [
    {
     "name": "stdout",
     "output_type": "stream",
     "text": [
      "[(0, 1), (1, 1), (2, 1), (3, 1), (4, 1), (5, 1), (6, 1), (7, 1), (8, 2), (9, 1), (10, 5), (11, 1), (12, 4), (13, 1), (14, 1), (15, 1), (16, 2), (17, 2), (18, 1), (19, 1), (20, 1), (21, 3), (22, 1), (23, 1), (24, 1), (25, 1), (26, 1), (27, 1), (28, 1), (29, 1)]\n"
     ]
    }
   ],
   "source": [
    "# Create Dictionary\n",
    "id2word = corpora.Dictionary(data_lemmatized)\n",
    "\n",
    "# Create Corpus\n",
    "texts = data_lemmatized\n",
    "\n",
    "# Term Document Frequency\n",
    "corpus = [id2word.doc2bow(text) for text in texts]\n",
    "\n",
    "# View\n",
    "print(corpus[:1][0][:30])"
   ]
  },
  {
   "cell_type": "code",
   "execution_count": 14,
   "metadata": {},
   "outputs": [],
   "source": [
    "def compute_coherence_values(dictionary, corpus, texts, limit, start=2, step=3):\n",
    "    \"\"\"\n",
    "    Compute c_v coherence for various number of topics\n",
    "\n",
    "    Parameters:\n",
    "    ----------\n",
    "    dictionary : Gensim dictionary\n",
    "    corpus : Gensim corpus\n",
    "    texts : List of input texts\n",
    "    limit : Max num of topics\n",
    "\n",
    "    Returns:\n",
    "    -------\n",
    "    model_list : List of LDA topic models\n",
    "    coherence_values : Coherence values corresponding to the LDA model with respective number of topics\n",
    "    \"\"\"\n",
    "    coherence_values = []\n",
    "    model_list = []\n",
    "    for num_topics in range(start, limit, step):\n",
    "        model=LdaModel(corpus=corpus, id2word=dictionary, num_topics=num_topics)\n",
    "        model_list.append(model)\n",
    "        coherencemodel = CoherenceModel(model=model, texts=texts, dictionary=dictionary, coherence='c_v')\n",
    "        coherence_values.append(coherencemodel.get_coherence())\n",
    "\n",
    "    return model_list, coherence_values\n"
   ]
  },
  {
   "cell_type": "code",
   "execution_count": 210,
   "metadata": {},
   "outputs": [
    {
     "data": {
      "image/png": "[encoded data removed]",
      "text/plain": [
       "<Figure size 432x288 with 1 Axes>"
      ]
     },
     "metadata": {
      "needs_background": "light"
     },
     "output_type": "display_data"
    }
   ],
   "source": [
    "model_list, coherence_values = compute_coherence_values(dictionary=id2word, corpus=corpus, texts=data_lemmatized, start=2, limit=30, step=3)\n",
    "# Show graph\n",
    "import matplotlib.pyplot as plt\n",
    "limit=30; start=2; step=3;\n",
    "x = range(start, limit, step)\n",
    "plt.plot(x, coherence_values)\n",
    "plt.xlabel(\"Num Topics\")\n",
    "plt.ylabel(\"Coherence score\")\n",
    "plt.legend((\"coherence_values\"), loc='best')\n",
    "plt.show()"
   ]
  },
  {
   "cell_type": "code",
   "execution_count": 211,
   "metadata": {},
   "outputs": [
    {
     "name": "stdout",
     "output_type": "stream",
     "text": [
      "Num Topics = 2  has Coherence Value of 0.4555\n",
      "Num Topics = 5  has Coherence Value of 0.5333\n",
      "Num Topics = 8  has Coherence Value of 0.5316\n",
      "Num Topics = 11  has Coherence Value of 0.5258\n",
      "Num Topics = 14  has Coherence Value of 0.5521\n",
      "Num Topics = 17  has Coherence Value of 0.5555\n",
      "Num Topics = 20  has Coherence Value of 0.5192\n",
      "Num Topics = 23  has Coherence Value of 0.5527\n",
      "Num Topics = 26  has Coherence Value of 0.5377\n",
      "Num Topics = 29  has Coherence Value of 0.5136\n"
     ]
    }
   ],
   "source": [
    "# Print the coherence scores\n",
    "for m, cv in zip(x, coherence_values):\n",
    "    print(\"Num Topics =\", m, \" has Coherence Value of\", round(cv, 4))"
   ]
  },
  {
   "cell_type": "code",
   "execution_count": 212,
   "metadata": {},
   "outputs": [
    {
     "name": "stdout",
     "output_type": "stream",
     "text": [
      "[(0,\n",
      "  '0.035*\"study\" + 0.019*\"datum\" + 0.017*\"analysis\" + 0.015*\"research\" + '\n",
      "  '0.011*\"information\" + 0.011*\"result\" + 0.011*\"method\" + 0.011*\"include\" + '\n",
      "  '0.011*\"review\" + 0.010*\"base\"'),\n",
      " (1,\n",
      "  '0.053*\"protein\" + 0.023*\"virus\" + 0.022*\"sars\" + 0.020*\"viral\" + '\n",
      "  '0.018*\"bind\" + 0.013*\"target\" + 0.012*\"host\" + 0.010*\"drug\" + '\n",
      "  '0.010*\"structure\" + 0.010*\"rna\"'),\n",
      " (2,\n",
      "  '0.074*\"patient\" + 0.018*\"treatment\" + 0.016*\"case\" + 0.015*\"cancer\" + '\n",
      "  '0.014*\"lung\" + 0.014*\"clinical\" + 0.011*\"present\" + 0.010*\"surgery\" + '\n",
      "  '0.010*\"surgical\" + 0.009*\"diagnosis\"'),\n",
      " (3,\n",
      "  '0.023*\"activity\" + 0.017*\"effect\" + 0.013*\"study\" + 0.013*\"result\" + '\n",
      "  '0.012*\"show\" + 0.011*\"ibv\" + 0.011*\"concentration\" + 0.010*\"treatment\" + '\n",
      "  '0.008*\"cell\" + 0.008*\"inhibit\"'),\n",
      " (4,\n",
      "  '0.013*\"air\" + 0.012*\"environmental\" + 0.012*\"mask\" + 0.010*\"temperature\" + '\n",
      "  '0.009*\"water\" + 0.009*\"environment\" + 0.009*\"particle\" + 0.009*\"high\" + '\n",
      "  '0.009*\"surface\" + 0.008*\"aerosol\"'),\n",
      " (5,\n",
      "  '0.029*\"test\" + 0.022*\"method\" + 0.018*\"detection\" + 0.017*\"sample\" + '\n",
      "  '0.014*\"base\" + 0.012*\"testing\" + 0.012*\"diagnostic\" + 0.012*\"result\" + '\n",
      "  '0.011*\"assay\" + 0.011*\"time\"'),\n",
      " (6,\n",
      "  '0.099*\"cell\" + 0.024*\"infection\" + 0.023*\"expression\" + 0.020*\"cd\" + '\n",
      "  '0.017*\"response\" + 0.012*\"mouse\" + 0.011*\"induce\" + 0.010*\"hiv\" + '\n",
      "  '0.009*\"gene\" + 0.009*\"express\"'),\n",
      " (7,\n",
      "  '0.025*\"health\" + 0.024*\"participant\" + 0.022*\"survey\" + 0.022*\"study\" + '\n",
      "  '0.020*\"mental\" + 0.015*\"report\" + 0.014*\"self\" + 0.013*\"result\" + '\n",
      "  '0.012*\"factor\" + 0.011*\"anxiety\"'),\n",
      " (8,\n",
      "  '0.052*\"model\" + 0.032*\"case\" + 0.019*\"epidemic\" + 0.019*\"number\" + '\n",
      "  '0.018*\"estimate\" + 0.015*\"rate\" + 0.015*\"country\" + 0.013*\"time\" + '\n",
      "  '0.013*\"population\" + 0.013*\"spread\"'),\n",
      " (9,\n",
      "  '0.055*\"virus\" + 0.017*\"human\" + 0.017*\"viral\" + 0.014*\"gene\" + '\n",
      "  '0.013*\"sequence\" + 0.013*\"genome\" + 0.013*\"rna\" + 0.012*\"strain\" + '\n",
      "  '0.010*\"sample\" + 0.010*\"detect\"'),\n",
      " (10,\n",
      "  '0.042*\"vaccine\" + 0.021*\"drug\" + 0.020*\"antibody\" + 0.017*\"treatment\" + '\n",
      "  '0.013*\"clinical\" + 0.013*\"development\" + 0.013*\"virus\" + 0.013*\"disease\" + '\n",
      "  '0.012*\"effective\" + 0.012*\"influenza\"'),\n",
      " (11,\n",
      "  '0.079*\"patient\" + 0.019*\"ci\" + 0.018*\"hospital\" + 0.017*\"study\" + '\n",
      "  '0.017*\"risk\" + 0.014*\"outcome\" + 0.013*\"mortality\" + 0.013*\"clinical\" + '\n",
      "  '0.012*\"care\" + 0.011*\"high\"'),\n",
      " (12,\n",
      "  '0.025*\"health\" + 0.023*\"pandemic\" + 0.013*\"care\" + 0.010*\"public\" + '\n",
      "  '0.007*\"healthcare\" + 0.007*\"risk\" + 0.006*\"need\" + 0.006*\"system\" + '\n",
      "  '0.006*\"provide\" + 0.006*\"impact\"'),\n",
      " (13,\n",
      "  '0.032*\"dose\" + 0.019*\"asthma\" + 0.019*\"woman\" + 0.019*\"pregnancy\" + '\n",
      "  '0.018*\"infant\" + 0.015*\"oral\" + 0.013*\"mhv\" + 0.012*\"pregnant_woman\" + '\n",
      "  '0.012*\"depression\" + 0.012*\"airway\"'),\n",
      " (14,\n",
      "  '0.120*\"covid\" + 0.055*\"cov\" + 0.047*\"sars\" + 0.034*\"infection\" + '\n",
      "  '0.031*\"coronavirus\" + 0.028*\"respiratory\" + 0.024*\"disease\" + 0.018*\"case\" '\n",
      "  '+ 0.017*\"severe\" + 0.013*\"patient\"'),\n",
      " (15,\n",
      "  '0.031*\"disease\" + 0.013*\"infection\" + 0.012*\"immune\" + 0.011*\"role\" + '\n",
      "  '0.011*\"response\" + 0.011*\"mechanism\" + 0.010*\"inflammatory\" + '\n",
      "  '0.009*\"associate\" + 0.009*\"factor\" + 0.009*\"review\"'),\n",
      " (16,\n",
      "  '0.031*\"group\" + 0.022*\"age\" + 0.020*\"high\" + 0.019*\"level\" + 0.018*\"study\" '\n",
      "  '+ 0.017*\"increase\" + 0.016*\"compare\" + 0.016*\"year\" + 0.014*\"result\" + '\n",
      "  '0.014*\"child\"')]\n"
     ]
    }
   ],
   "source": [
    "# Select the model and print the topics\n",
    "optimal_model = model_list[5]\n",
    "model_topics = optimal_model.show_topics(formatted=False)\n",
    "#pprint(optimal_model.print_topics())"
   ]
  },
  {
   "cell_type": "code",
   "execution_count": 7,
   "metadata": {},
   "outputs": [],
   "source": [
    "#from gensim.test.utils import datapath\n",
    "\n",
    "#Save model to disk.\n",
    "#temp_file = datapath(\"C:/Users/Iro Sfoungari/Desktop/FINAL_DATABASE/lda_model.csv\")\n",
    "#optimal_model.save(temp_file)\n"
   ]
  },
  {
   "cell_type": "code",
   "execution_count": 8,
   "metadata": {},
   "outputs": [],
   "source": [
    "# Load a potentially pretrained model from disk.\n",
    "ldaM = LdaModel.load(\"C:/Users/Iro Sfoungari/Desktop/THESIS DATA/FINAL_DATABASE/Step_2_LDA_model/lda_model.csv\")"
   ]
  },
  {
   "cell_type": "code",
   "execution_count": 10,
   "metadata": {},
   "outputs": [],
   "source": [
    "data = pd.read_csv(\"C:/Users/Iro Sfoungari/Desktop/THESIS DATA/FINAL_DATABASE/Only_english_Data.csv\" ,low_memory=False)\n"
   ]
  },
  {
   "cell_type": "code",
   "execution_count": 15,
   "metadata": {},
   "outputs": [
    {
     "data": {
      "text/plain": [
       "269233"
      ]
     },
     "execution_count": 15,
     "metadata": {},
     "output_type": "execute_result"
    }
   ],
   "source": [
    "len(data)"
   ]
  },
  {
   "cell_type": "code",
   "execution_count": 16,
   "metadata": {},
   "outputs": [],
   "source": [
    "var=ldaM.print_topic(1)"
   ]
  },
  {
   "cell_type": "code",
   "execution_count": 17,
   "metadata": {},
   "outputs": [
    {
     "data": {
      "text/plain": [
       "'0.053*\"protein\" + 0.023*\"virus\" + 0.022*\"sars\" + 0.020*\"viral\" + 0.018*\"bind\" + 0.013*\"target\" + 0.012*\"host\" + 0.010*\"drug\" + 0.010*\"structure\" + 0.010*\"rna\"'"
      ]
     },
     "execution_count": 17,
     "metadata": {},
     "output_type": "execute_result"
    }
   ],
   "source": [
    "var"
   ]
  },
  {
   "cell_type": "code",
   "execution_count": 18,
   "metadata": {},
   "outputs": [],
   "source": [
    "var1= ldaM.num_topics"
   ]
  },
  {
   "cell_type": "code",
   "execution_count": 19,
   "metadata": {},
   "outputs": [
    {
     "data": {
      "text/plain": [
       "17"
      ]
     },
     "execution_count": 19,
     "metadata": {},
     "output_type": "execute_result"
    }
   ],
   "source": [
    "var1"
   ]
  },
  {
   "cell_type": "code",
   "execution_count": 20,
   "metadata": {},
   "outputs": [],
   "source": [
    "doiList = data['cord_uid'].tolist()\n"
   ]
  },
  {
   "cell_type": "code",
   "execution_count": 21,
   "metadata": {},
   "outputs": [],
   "source": [
    "corpus_transformed = ldaM[corpus]\n",
    "s1=list(corpus_transformed)"
   ]
  },
  {
   "cell_type": "code",
   "execution_count": 22,
   "metadata": {},
   "outputs": [],
   "source": [
    "k=list(zip(doiList, s1))\n"
   ]
  },
  {
   "cell_type": "code",
   "execution_count": null,
   "metadata": {},
   "outputs": [],
   "source": [
    "#for i in k:\n",
    "    #print(i)"
   ]
  },
  {
   "cell_type": "code",
   "execution_count": 24,
   "metadata": {},
   "outputs": [],
   "source": [
    "df = DataFrame (k,columns=['cord_uid','Topic'])"
   ]
  },
  {
   "cell_type": "code",
   "execution_count": 32,
   "metadata": {},
   "outputs": [
    {
     "data": {
      "text/html": [
       "<div>\n",
       "<style scoped>\n",
       "    .dataframe tbody tr th:only-of-type {\n",
       "        vertical-align: middle;\n",
       "    }\n",
       "\n",
       "    .dataframe tbody tr th {\n",
       "        vertical-align: top;\n",
       "    }\n",
       "\n",
       "    .dataframe thead th {\n",
       "        text-align: right;\n",
       "    }\n",
       "</style>\n",
       "<table border=\"1\" class=\"dataframe\">\n",
       "  <thead>\n",
       "    <tr style=\"text-align: right;\">\n",
       "      <th></th>\n",
       "      <th>cord_uid</th>\n",
       "      <th>Topic</th>\n",
       "    </tr>\n",
       "  </thead>\n",
       "  <tbody>\n",
       "    <tr>\n",
       "      <th>0</th>\n",
       "      <td>ug7v899j</td>\n",
       "      <td>9, 0.02978878), 11, 0.37990746), 13, 0.0665020...</td>\n",
       "    </tr>\n",
       "    <tr>\n",
       "      <th>1</th>\n",
       "      <td>02tnwd4m</td>\n",
       "      <td>2, 0.06857341), 3, 0.091626994), 4, 0.19114812...</td>\n",
       "    </tr>\n",
       "    <tr>\n",
       "      <th>2</th>\n",
       "      <td>ejv2xln0</td>\n",
       "      <td>1, 0.056604512), 2, 0.020819936), 3, 0.0384809...</td>\n",
       "    </tr>\n",
       "    <tr>\n",
       "      <th>3</th>\n",
       "      <td>2b73a28n</td>\n",
       "      <td>1, 0.112175405), 6, 0.06806842), 13, 0.0909821...</td>\n",
       "    </tr>\n",
       "    <tr>\n",
       "      <th>4</th>\n",
       "      <td>9785vg6d</td>\n",
       "      <td>6, 0.28393435), 9, 0.26332456), 14, 0.15155393...</td>\n",
       "    </tr>\n",
       "    <tr>\n",
       "      <th>5</th>\n",
       "      <td>zjufx4fo</td>\n",
       "      <td>1, 0.34758), 3, 0.06844509), 4, 0.09506548), 9...</td>\n",
       "    </tr>\n",
       "    <tr>\n",
       "      <th>6</th>\n",
       "      <td>5yhe786e</td>\n",
       "      <td>2, 0.3030509), 6, 0.0266319), 11, 0.21471772),...</td>\n",
       "    </tr>\n",
       "    <tr>\n",
       "      <th>7</th>\n",
       "      <td>8zchiykl</td>\n",
       "      <td>2, 0.1900594), 5, 0.079908825), 11, 0.17909044...</td>\n",
       "    </tr>\n",
       "    <tr>\n",
       "      <th>8</th>\n",
       "      <td>8qnrcgnk</td>\n",
       "      <td>2, 0.026015982), 3, 0.1625151), 4, 0.0274275),...</td>\n",
       "    </tr>\n",
       "    <tr>\n",
       "      <th>9</th>\n",
       "      <td>jg13scgo</td>\n",
       "      <td>0, 0.37473992), 3, 0.0112911705), 5, 0.1053074...</td>\n",
       "    </tr>\n",
       "  </tbody>\n",
       "</table>\n",
       "</div>"
      ],
      "text/plain": [
       "   cord_uid                                              Topic\n",
       "0  ug7v899j  9, 0.02978878), 11, 0.37990746), 13, 0.0665020...\n",
       "1  02tnwd4m  2, 0.06857341), 3, 0.091626994), 4, 0.19114812...\n",
       "2  ejv2xln0  1, 0.056604512), 2, 0.020819936), 3, 0.0384809...\n",
       "3  2b73a28n  1, 0.112175405), 6, 0.06806842), 13, 0.0909821...\n",
       "4  9785vg6d  6, 0.28393435), 9, 0.26332456), 14, 0.15155393...\n",
       "5  zjufx4fo  1, 0.34758), 3, 0.06844509), 4, 0.09506548), 9...\n",
       "6  5yhe786e  2, 0.3030509), 6, 0.0266319), 11, 0.21471772),...\n",
       "7  8zchiykl  2, 0.1900594), 5, 0.079908825), 11, 0.17909044...\n",
       "8  8qnrcgnk  2, 0.026015982), 3, 0.1625151), 4, 0.0274275),...\n",
       "9  jg13scgo  0, 0.37473992), 3, 0.0112911705), 5, 0.1053074..."
      ]
     },
     "execution_count": 32,
     "metadata": {},
     "output_type": "execute_result"
    }
   ],
   "source": [
    "df.head(10)"
   ]
  },
  {
   "cell_type": "code",
   "execution_count": 26,
   "metadata": {},
   "outputs": [
    {
     "data": {
      "text/plain": [
       "269233"
      ]
     },
     "execution_count": 26,
     "metadata": {},
     "output_type": "execute_result"
    }
   ],
   "source": [
    "len(df)"
   ]
  },
  {
   "cell_type": "code",
   "execution_count": 27,
   "metadata": {},
   "outputs": [],
   "source": [
    "df['Topic'] = df['Topic'].astype(str)"
   ]
  },
  {
   "cell_type": "code",
   "execution_count": 30,
   "metadata": {},
   "outputs": [],
   "source": [
    "df['Topic'] = df['Topic'].str.replace(\"[\",\"\")\n"
   ]
  },
  {
   "cell_type": "code",
   "execution_count": 31,
   "metadata": {},
   "outputs": [],
   "source": [
    "df['Topic'] = df['Topic'].str.replace(\"(\",\"\")\n"
   ]
  },
  {
   "cell_type": "code",
   "execution_count": 33,
   "metadata": {},
   "outputs": [],
   "source": [
    "df['Topic'] = df['Topic'].str.replace(\"]\",\"\")\n"
   ]
  },
  {
   "cell_type": "code",
   "execution_count": 34,
   "metadata": {},
   "outputs": [],
   "source": [
    "df['Topic'] = df['Topic'].str.replace(\" \",\"\")\n"
   ]
  },
  {
   "cell_type": "code",
   "execution_count": 35,
   "metadata": {},
   "outputs": [],
   "source": [
    "df2= df['Topic'].str.split(\"\\),\", expand=True)\n"
   ]
  },
  {
   "cell_type": "code",
   "execution_count": 36,
   "metadata": {},
   "outputs": [
    {
     "data": {
      "text/html": [
       "<div>\n",
       "<style scoped>\n",
       "    .dataframe tbody tr th:only-of-type {\n",
       "        vertical-align: middle;\n",
       "    }\n",
       "\n",
       "    .dataframe tbody tr th {\n",
       "        vertical-align: top;\n",
       "    }\n",
       "\n",
       "    .dataframe thead th {\n",
       "        text-align: right;\n",
       "    }\n",
       "</style>\n",
       "<table border=\"1\" class=\"dataframe\">\n",
       "  <thead>\n",
       "    <tr style=\"text-align: right;\">\n",
       "      <th></th>\n",
       "      <th>0</th>\n",
       "      <th>1</th>\n",
       "      <th>2</th>\n",
       "      <th>3</th>\n",
       "      <th>4</th>\n",
       "      <th>5</th>\n",
       "      <th>6</th>\n",
       "      <th>7</th>\n",
       "      <th>8</th>\n",
       "      <th>9</th>\n",
       "      <th>10</th>\n",
       "      <th>11</th>\n",
       "      <th>12</th>\n",
       "      <th>13</th>\n",
       "      <th>14</th>\n",
       "      <th>15</th>\n",
       "      <th>16</th>\n",
       "    </tr>\n",
       "  </thead>\n",
       "  <tbody>\n",
       "    <tr>\n",
       "      <th>0</th>\n",
       "      <td>9,0.02978878</td>\n",
       "      <td>11,0.37990746</td>\n",
       "      <td>13,0.066502035</td>\n",
       "      <td>14,0.45598003</td>\n",
       "      <td>16,0.061569713)</td>\n",
       "      <td>None</td>\n",
       "      <td>None</td>\n",
       "      <td>None</td>\n",
       "      <td>None</td>\n",
       "      <td>None</td>\n",
       "      <td>None</td>\n",
       "      <td>None</td>\n",
       "      <td>None</td>\n",
       "      <td>None</td>\n",
       "      <td>None</td>\n",
       "      <td>None</td>\n",
       "      <td>None</td>\n",
       "    </tr>\n",
       "    <tr>\n",
       "      <th>1</th>\n",
       "      <td>2,0.06857341</td>\n",
       "      <td>3,0.091626994</td>\n",
       "      <td>4,0.19114812</td>\n",
       "      <td>5,0.036680907</td>\n",
       "      <td>12,0.019714378</td>\n",
       "      <td>15,0.5840331)</td>\n",
       "      <td>None</td>\n",
       "      <td>None</td>\n",
       "      <td>None</td>\n",
       "      <td>None</td>\n",
       "      <td>None</td>\n",
       "      <td>None</td>\n",
       "      <td>None</td>\n",
       "      <td>None</td>\n",
       "      <td>None</td>\n",
       "      <td>None</td>\n",
       "      <td>None</td>\n",
       "    </tr>\n",
       "    <tr>\n",
       "      <th>2</th>\n",
       "      <td>1,0.056604512</td>\n",
       "      <td>2,0.020819936</td>\n",
       "      <td>3,0.0384809</td>\n",
       "      <td>4,0.22585802</td>\n",
       "      <td>6,0.36523408</td>\n",
       "      <td>9,0.038677417</td>\n",
       "      <td>12,0.017933968</td>\n",
       "      <td>15,0.23168091)</td>\n",
       "      <td>None</td>\n",
       "      <td>None</td>\n",
       "      <td>None</td>\n",
       "      <td>None</td>\n",
       "      <td>None</td>\n",
       "      <td>None</td>\n",
       "      <td>None</td>\n",
       "      <td>None</td>\n",
       "      <td>None</td>\n",
       "    </tr>\n",
       "    <tr>\n",
       "      <th>3</th>\n",
       "      <td>1,0.112175405</td>\n",
       "      <td>6,0.06806842</td>\n",
       "      <td>13,0.09098211</td>\n",
       "      <td>15,0.7074866)</td>\n",
       "      <td>None</td>\n",
       "      <td>None</td>\n",
       "      <td>None</td>\n",
       "      <td>None</td>\n",
       "      <td>None</td>\n",
       "      <td>None</td>\n",
       "      <td>None</td>\n",
       "      <td>None</td>\n",
       "      <td>None</td>\n",
       "      <td>None</td>\n",
       "      <td>None</td>\n",
       "      <td>None</td>\n",
       "      <td>None</td>\n",
       "    </tr>\n",
       "    <tr>\n",
       "      <th>4</th>\n",
       "      <td>6,0.28393435</td>\n",
       "      <td>9,0.26332456</td>\n",
       "      <td>14,0.15155393</td>\n",
       "      <td>15,0.28863946)</td>\n",
       "      <td>None</td>\n",
       "      <td>None</td>\n",
       "      <td>None</td>\n",
       "      <td>None</td>\n",
       "      <td>None</td>\n",
       "      <td>None</td>\n",
       "      <td>None</td>\n",
       "      <td>None</td>\n",
       "      <td>None</td>\n",
       "      <td>None</td>\n",
       "      <td>None</td>\n",
       "      <td>None</td>\n",
       "      <td>None</td>\n",
       "    </tr>\n",
       "    <tr>\n",
       "      <th>5</th>\n",
       "      <td>1,0.34758</td>\n",
       "      <td>3,0.06844509</td>\n",
       "      <td>4,0.09506548</td>\n",
       "      <td>9,0.36533394</td>\n",
       "      <td>14,0.06716935</td>\n",
       "      <td>15,0.049104705)</td>\n",
       "      <td>None</td>\n",
       "      <td>None</td>\n",
       "      <td>None</td>\n",
       "      <td>None</td>\n",
       "      <td>None</td>\n",
       "      <td>None</td>\n",
       "      <td>None</td>\n",
       "      <td>None</td>\n",
       "      <td>None</td>\n",
       "      <td>None</td>\n",
       "      <td>None</td>\n",
       "    </tr>\n",
       "    <tr>\n",
       "      <th>6</th>\n",
       "      <td>2,0.3030509</td>\n",
       "      <td>6,0.0266319</td>\n",
       "      <td>11,0.21471772</td>\n",
       "      <td>12,0.28216165</td>\n",
       "      <td>16,0.16221994)</td>\n",
       "      <td>None</td>\n",
       "      <td>None</td>\n",
       "      <td>None</td>\n",
       "      <td>None</td>\n",
       "      <td>None</td>\n",
       "      <td>None</td>\n",
       "      <td>None</td>\n",
       "      <td>None</td>\n",
       "      <td>None</td>\n",
       "      <td>None</td>\n",
       "      <td>None</td>\n",
       "      <td>None</td>\n",
       "    </tr>\n",
       "    <tr>\n",
       "      <th>7</th>\n",
       "      <td>2,0.1900594</td>\n",
       "      <td>5,0.079908825</td>\n",
       "      <td>11,0.17909044</td>\n",
       "      <td>12,0.37986264</td>\n",
       "      <td>14,0.049179118</td>\n",
       "      <td>15,0.109185606)</td>\n",
       "      <td>None</td>\n",
       "      <td>None</td>\n",
       "      <td>None</td>\n",
       "      <td>None</td>\n",
       "      <td>None</td>\n",
       "      <td>None</td>\n",
       "      <td>None</td>\n",
       "      <td>None</td>\n",
       "      <td>None</td>\n",
       "      <td>None</td>\n",
       "      <td>None</td>\n",
       "    </tr>\n",
       "    <tr>\n",
       "      <th>8</th>\n",
       "      <td>2,0.026015982</td>\n",
       "      <td>3,0.1625151</td>\n",
       "      <td>4,0.0274275</td>\n",
       "      <td>6,0.24711113</td>\n",
       "      <td>15,0.53031963)</td>\n",
       "      <td>None</td>\n",
       "      <td>None</td>\n",
       "      <td>None</td>\n",
       "      <td>None</td>\n",
       "      <td>None</td>\n",
       "      <td>None</td>\n",
       "      <td>None</td>\n",
       "      <td>None</td>\n",
       "      <td>None</td>\n",
       "      <td>None</td>\n",
       "      <td>None</td>\n",
       "      <td>None</td>\n",
       "    </tr>\n",
       "    <tr>\n",
       "      <th>9</th>\n",
       "      <td>0,0.37473992</td>\n",
       "      <td>3,0.0112911705</td>\n",
       "      <td>5,0.105307445</td>\n",
       "      <td>7,0.078344524</td>\n",
       "      <td>8,0.07826442</td>\n",
       "      <td>12,0.30639505</td>\n",
       "      <td>14,0.040290974)</td>\n",
       "      <td>None</td>\n",
       "      <td>None</td>\n",
       "      <td>None</td>\n",
       "      <td>None</td>\n",
       "      <td>None</td>\n",
       "      <td>None</td>\n",
       "      <td>None</td>\n",
       "      <td>None</td>\n",
       "      <td>None</td>\n",
       "      <td>None</td>\n",
       "    </tr>\n",
       "  </tbody>\n",
       "</table>\n",
       "</div>"
      ],
      "text/plain": [
       "               0               1               2               3  \\\n",
       "0   9,0.02978878   11,0.37990746  13,0.066502035   14,0.45598003   \n",
       "1   2,0.06857341   3,0.091626994    4,0.19114812   5,0.036680907   \n",
       "2  1,0.056604512   2,0.020819936     3,0.0384809    4,0.22585802   \n",
       "3  1,0.112175405    6,0.06806842   13,0.09098211   15,0.7074866)   \n",
       "4   6,0.28393435    9,0.26332456   14,0.15155393  15,0.28863946)   \n",
       "5      1,0.34758    3,0.06844509    4,0.09506548    9,0.36533394   \n",
       "6    2,0.3030509     6,0.0266319   11,0.21471772   12,0.28216165   \n",
       "7    2,0.1900594   5,0.079908825   11,0.17909044   12,0.37986264   \n",
       "8  2,0.026015982     3,0.1625151     4,0.0274275    6,0.24711113   \n",
       "9   0,0.37473992  3,0.0112911705   5,0.105307445   7,0.078344524   \n",
       "\n",
       "                 4                5                6               7     8  \\\n",
       "0  16,0.061569713)             None             None            None  None   \n",
       "1   12,0.019714378    15,0.5840331)             None            None  None   \n",
       "2     6,0.36523408    9,0.038677417   12,0.017933968  15,0.23168091)  None   \n",
       "3             None             None             None            None  None   \n",
       "4             None             None             None            None  None   \n",
       "5    14,0.06716935  15,0.049104705)             None            None  None   \n",
       "6   16,0.16221994)             None             None            None  None   \n",
       "7   14,0.049179118  15,0.109185606)             None            None  None   \n",
       "8   15,0.53031963)             None             None            None  None   \n",
       "9     8,0.07826442    12,0.30639505  14,0.040290974)            None  None   \n",
       "\n",
       "      9    10    11    12    13    14    15    16  \n",
       "0  None  None  None  None  None  None  None  None  \n",
       "1  None  None  None  None  None  None  None  None  \n",
       "2  None  None  None  None  None  None  None  None  \n",
       "3  None  None  None  None  None  None  None  None  \n",
       "4  None  None  None  None  None  None  None  None  \n",
       "5  None  None  None  None  None  None  None  None  \n",
       "6  None  None  None  None  None  None  None  None  \n",
       "7  None  None  None  None  None  None  None  None  \n",
       "8  None  None  None  None  None  None  None  None  \n",
       "9  None  None  None  None  None  None  None  None  "
      ]
     },
     "execution_count": 36,
     "metadata": {},
     "output_type": "execute_result"
    }
   ],
   "source": [
    "df2.head(10)"
   ]
  },
  {
   "cell_type": "code",
   "execution_count": 37,
   "metadata": {},
   "outputs": [],
   "source": [
    "data=pd.concat([df['cord_uid'], df2], axis=1)\n"
   ]
  },
  {
   "cell_type": "code",
   "execution_count": 38,
   "metadata": {},
   "outputs": [
    {
     "data": {
      "text/html": [
       "<div>\n",
       "<style scoped>\n",
       "    .dataframe tbody tr th:only-of-type {\n",
       "        vertical-align: middle;\n",
       "    }\n",
       "\n",
       "    .dataframe tbody tr th {\n",
       "        vertical-align: top;\n",
       "    }\n",
       "\n",
       "    .dataframe thead th {\n",
       "        text-align: right;\n",
       "    }\n",
       "</style>\n",
       "<table border=\"1\" class=\"dataframe\">\n",
       "  <thead>\n",
       "    <tr style=\"text-align: right;\">\n",
       "      <th></th>\n",
       "      <th>cord_uid</th>\n",
       "      <th>0</th>\n",
       "      <th>1</th>\n",
       "      <th>2</th>\n",
       "      <th>3</th>\n",
       "      <th>4</th>\n",
       "      <th>5</th>\n",
       "      <th>6</th>\n",
       "      <th>7</th>\n",
       "      <th>8</th>\n",
       "      <th>9</th>\n",
       "      <th>10</th>\n",
       "      <th>11</th>\n",
       "      <th>12</th>\n",
       "      <th>13</th>\n",
       "      <th>14</th>\n",
       "      <th>15</th>\n",
       "      <th>16</th>\n",
       "    </tr>\n",
       "  </thead>\n",
       "  <tbody>\n",
       "    <tr>\n",
       "      <th>0</th>\n",
       "      <td>ug7v899j</td>\n",
       "      <td>9,0.02978878</td>\n",
       "      <td>11,0.37990746</td>\n",
       "      <td>13,0.066502035</td>\n",
       "      <td>14,0.45598003</td>\n",
       "      <td>16,0.061569713)</td>\n",
       "      <td>None</td>\n",
       "      <td>None</td>\n",
       "      <td>None</td>\n",
       "      <td>None</td>\n",
       "      <td>None</td>\n",
       "      <td>None</td>\n",
       "      <td>None</td>\n",
       "      <td>None</td>\n",
       "      <td>None</td>\n",
       "      <td>None</td>\n",
       "      <td>None</td>\n",
       "      <td>None</td>\n",
       "    </tr>\n",
       "    <tr>\n",
       "      <th>1</th>\n",
       "      <td>02tnwd4m</td>\n",
       "      <td>2,0.06857341</td>\n",
       "      <td>3,0.091626994</td>\n",
       "      <td>4,0.19114812</td>\n",
       "      <td>5,0.036680907</td>\n",
       "      <td>12,0.019714378</td>\n",
       "      <td>15,0.5840331)</td>\n",
       "      <td>None</td>\n",
       "      <td>None</td>\n",
       "      <td>None</td>\n",
       "      <td>None</td>\n",
       "      <td>None</td>\n",
       "      <td>None</td>\n",
       "      <td>None</td>\n",
       "      <td>None</td>\n",
       "      <td>None</td>\n",
       "      <td>None</td>\n",
       "      <td>None</td>\n",
       "    </tr>\n",
       "    <tr>\n",
       "      <th>2</th>\n",
       "      <td>ejv2xln0</td>\n",
       "      <td>1,0.056604512</td>\n",
       "      <td>2,0.020819936</td>\n",
       "      <td>3,0.0384809</td>\n",
       "      <td>4,0.22585802</td>\n",
       "      <td>6,0.36523408</td>\n",
       "      <td>9,0.038677417</td>\n",
       "      <td>12,0.017933968</td>\n",
       "      <td>15,0.23168091)</td>\n",
       "      <td>None</td>\n",
       "      <td>None</td>\n",
       "      <td>None</td>\n",
       "      <td>None</td>\n",
       "      <td>None</td>\n",
       "      <td>None</td>\n",
       "      <td>None</td>\n",
       "      <td>None</td>\n",
       "      <td>None</td>\n",
       "    </tr>\n",
       "    <tr>\n",
       "      <th>3</th>\n",
       "      <td>2b73a28n</td>\n",
       "      <td>1,0.112175405</td>\n",
       "      <td>6,0.06806842</td>\n",
       "      <td>13,0.09098211</td>\n",
       "      <td>15,0.7074866)</td>\n",
       "      <td>None</td>\n",
       "      <td>None</td>\n",
       "      <td>None</td>\n",
       "      <td>None</td>\n",
       "      <td>None</td>\n",
       "      <td>None</td>\n",
       "      <td>None</td>\n",
       "      <td>None</td>\n",
       "      <td>None</td>\n",
       "      <td>None</td>\n",
       "      <td>None</td>\n",
       "      <td>None</td>\n",
       "      <td>None</td>\n",
       "    </tr>\n",
       "    <tr>\n",
       "      <th>4</th>\n",
       "      <td>9785vg6d</td>\n",
       "      <td>6,0.28393435</td>\n",
       "      <td>9,0.26332456</td>\n",
       "      <td>14,0.15155393</td>\n",
       "      <td>15,0.28863946)</td>\n",
       "      <td>None</td>\n",
       "      <td>None</td>\n",
       "      <td>None</td>\n",
       "      <td>None</td>\n",
       "      <td>None</td>\n",
       "      <td>None</td>\n",
       "      <td>None</td>\n",
       "      <td>None</td>\n",
       "      <td>None</td>\n",
       "      <td>None</td>\n",
       "      <td>None</td>\n",
       "      <td>None</td>\n",
       "      <td>None</td>\n",
       "    </tr>\n",
       "    <tr>\n",
       "      <th>5</th>\n",
       "      <td>zjufx4fo</td>\n",
       "      <td>1,0.34758</td>\n",
       "      <td>3,0.06844509</td>\n",
       "      <td>4,0.09506548</td>\n",
       "      <td>9,0.36533394</td>\n",
       "      <td>14,0.06716935</td>\n",
       "      <td>15,0.049104705)</td>\n",
       "      <td>None</td>\n",
       "      <td>None</td>\n",
       "      <td>None</td>\n",
       "      <td>None</td>\n",
       "      <td>None</td>\n",
       "      <td>None</td>\n",
       "      <td>None</td>\n",
       "      <td>None</td>\n",
       "      <td>None</td>\n",
       "      <td>None</td>\n",
       "      <td>None</td>\n",
       "    </tr>\n",
       "    <tr>\n",
       "      <th>6</th>\n",
       "      <td>5yhe786e</td>\n",
       "      <td>2,0.3030509</td>\n",
       "      <td>6,0.0266319</td>\n",
       "      <td>11,0.21471772</td>\n",
       "      <td>12,0.28216165</td>\n",
       "      <td>16,0.16221994)</td>\n",
       "      <td>None</td>\n",
       "      <td>None</td>\n",
       "      <td>None</td>\n",
       "      <td>None</td>\n",
       "      <td>None</td>\n",
       "      <td>None</td>\n",
       "      <td>None</td>\n",
       "      <td>None</td>\n",
       "      <td>None</td>\n",
       "      <td>None</td>\n",
       "      <td>None</td>\n",
       "      <td>None</td>\n",
       "    </tr>\n",
       "    <tr>\n",
       "      <th>7</th>\n",
       "      <td>8zchiykl</td>\n",
       "      <td>2,0.1900594</td>\n",
       "      <td>5,0.079908825</td>\n",
       "      <td>11,0.17909044</td>\n",
       "      <td>12,0.37986264</td>\n",
       "      <td>14,0.049179118</td>\n",
       "      <td>15,0.109185606)</td>\n",
       "      <td>None</td>\n",
       "      <td>None</td>\n",
       "      <td>None</td>\n",
       "      <td>None</td>\n",
       "      <td>None</td>\n",
       "      <td>None</td>\n",
       "      <td>None</td>\n",
       "      <td>None</td>\n",
       "      <td>None</td>\n",
       "      <td>None</td>\n",
       "      <td>None</td>\n",
       "    </tr>\n",
       "    <tr>\n",
       "      <th>8</th>\n",
       "      <td>8qnrcgnk</td>\n",
       "      <td>2,0.026015982</td>\n",
       "      <td>3,0.1625151</td>\n",
       "      <td>4,0.0274275</td>\n",
       "      <td>6,0.24711113</td>\n",
       "      <td>15,0.53031963)</td>\n",
       "      <td>None</td>\n",
       "      <td>None</td>\n",
       "      <td>None</td>\n",
       "      <td>None</td>\n",
       "      <td>None</td>\n",
       "      <td>None</td>\n",
       "      <td>None</td>\n",
       "      <td>None</td>\n",
       "      <td>None</td>\n",
       "      <td>None</td>\n",
       "      <td>None</td>\n",
       "      <td>None</td>\n",
       "    </tr>\n",
       "    <tr>\n",
       "      <th>9</th>\n",
       "      <td>jg13scgo</td>\n",
       "      <td>0,0.37473992</td>\n",
       "      <td>3,0.0112911705</td>\n",
       "      <td>5,0.105307445</td>\n",
       "      <td>7,0.078344524</td>\n",
       "      <td>8,0.07826442</td>\n",
       "      <td>12,0.30639505</td>\n",
       "      <td>14,0.040290974)</td>\n",
       "      <td>None</td>\n",
       "      <td>None</td>\n",
       "      <td>None</td>\n",
       "      <td>None</td>\n",
       "      <td>None</td>\n",
       "      <td>None</td>\n",
       "      <td>None</td>\n",
       "      <td>None</td>\n",
       "      <td>None</td>\n",
       "      <td>None</td>\n",
       "    </tr>\n",
       "  </tbody>\n",
       "</table>\n",
       "</div>"
      ],
      "text/plain": [
       "   cord_uid              0               1               2               3  \\\n",
       "0  ug7v899j   9,0.02978878   11,0.37990746  13,0.066502035   14,0.45598003   \n",
       "1  02tnwd4m   2,0.06857341   3,0.091626994    4,0.19114812   5,0.036680907   \n",
       "2  ejv2xln0  1,0.056604512   2,0.020819936     3,0.0384809    4,0.22585802   \n",
       "3  2b73a28n  1,0.112175405    6,0.06806842   13,0.09098211   15,0.7074866)   \n",
       "4  9785vg6d   6,0.28393435    9,0.26332456   14,0.15155393  15,0.28863946)   \n",
       "5  zjufx4fo      1,0.34758    3,0.06844509    4,0.09506548    9,0.36533394   \n",
       "6  5yhe786e    2,0.3030509     6,0.0266319   11,0.21471772   12,0.28216165   \n",
       "7  8zchiykl    2,0.1900594   5,0.079908825   11,0.17909044   12,0.37986264   \n",
       "8  8qnrcgnk  2,0.026015982     3,0.1625151     4,0.0274275    6,0.24711113   \n",
       "9  jg13scgo   0,0.37473992  3,0.0112911705   5,0.105307445   7,0.078344524   \n",
       "\n",
       "                 4                5                6               7     8  \\\n",
       "0  16,0.061569713)             None             None            None  None   \n",
       "1   12,0.019714378    15,0.5840331)             None            None  None   \n",
       "2     6,0.36523408    9,0.038677417   12,0.017933968  15,0.23168091)  None   \n",
       "3             None             None             None            None  None   \n",
       "4             None             None             None            None  None   \n",
       "5    14,0.06716935  15,0.049104705)             None            None  None   \n",
       "6   16,0.16221994)             None             None            None  None   \n",
       "7   14,0.049179118  15,0.109185606)             None            None  None   \n",
       "8   15,0.53031963)             None             None            None  None   \n",
       "9     8,0.07826442    12,0.30639505  14,0.040290974)            None  None   \n",
       "\n",
       "      9    10    11    12    13    14    15    16  \n",
       "0  None  None  None  None  None  None  None  None  \n",
       "1  None  None  None  None  None  None  None  None  \n",
       "2  None  None  None  None  None  None  None  None  \n",
       "3  None  None  None  None  None  None  None  None  \n",
       "4  None  None  None  None  None  None  None  None  \n",
       "5  None  None  None  None  None  None  None  None  \n",
       "6  None  None  None  None  None  None  None  None  \n",
       "7  None  None  None  None  None  None  None  None  \n",
       "8  None  None  None  None  None  None  None  None  \n",
       "9  None  None  None  None  None  None  None  None  "
      ]
     },
     "execution_count": 38,
     "metadata": {},
     "output_type": "execute_result"
    }
   ],
   "source": [
    "data.head(10)"
   ]
  },
  {
   "cell_type": "code",
   "execution_count": 39,
   "metadata": {},
   "outputs": [
    {
     "data": {
      "text/plain": [
       "18"
      ]
     },
     "execution_count": 39,
     "metadata": {},
     "output_type": "execute_result"
    }
   ],
   "source": [
    "len(data.columns)\n"
   ]
  },
  {
   "cell_type": "code",
   "execution_count": null,
   "metadata": {},
   "outputs": [],
   "source": [
    "for x in range(len(data.columns)-1):\n",
    "    Datas_First_Topic = data[['cord_uid', x]]\n",
    "    Datas_First_Topic= Datas_First_Topic[x].str.split(\",\", expand=True)\n",
    "    Datas_First_Topic=pd.concat([df['cord_uid'], Datas_First_Topic], axis=1)\n",
    "    Datas_First_Topic.columns = ['cord_uid', 'Topic', 'Probability']\n",
    "    Datas_First_Topic['Probability'] = Datas_First_Topic['Probability'].str.replace(\")\",\"\")\n",
    "    new_df = Datas_First_Topic[Datas_First_Topic[\"Topic\"].str.contains('None') == False]\n",
    "    for index, row in new_df.iterrows():\n",
    "        row['Topic']=ldaM.print_topic(int(row['Topic']))\n",
    "    new_df['Topic']=new_df['Topic'].str.replace('\"','')\n",
    "    new_df['Topic']=new_df['Topic'].str.replace(\" \",\"\")\n",
    "    new_df['Topic']=new_df['Topic'].str.replace(\"+\",\", \")\n",
    "    new_df[\"Topic\"]=new_df[\"Topic\"].str.replace(\", \", \",\")\n",
    "    new_df.to_csv(r'C:/Users/Iro Sfoungari/Desktop/THESIS DATA/FINAL_DATABASE/Topics/'+str(x)+'_Topic.csv', index = False)\n",
    "tqdm.pandas()"
   ]
  },
  {
   "cell_type": "markdown",
   "metadata": {},
   "source": [
    "<h2>Sources</h2>\n",
    "<a href=\"https://www.machinelearningplus.com/nlp/topic-modeling-gensim-python/\">Topic Modeling with Gensim (Python)</a> \n",
    "<a href=\"https://towardsdatascience.com/evaluate-topic-model-in-python-latent-dirichlet-allocation-lda-7d57484bb5d0\">Evaluate Topic Models: Latent Dirichlet Allocation (LDA)</a>\n",
    "<a href=\"https://datascienceplus.com/evaluation-of-topic-modeling-topic-coherence/\">Evaluation of Topic Modeling: Topic Coherence</a>\n",
    "<a href=\"https://www.kaggle.com/thebrownviking20/topic-modelling-with-spacy-and-scikit-learn#\">Topic modelling with spaCy and scikit-learn</a>"
   ]
  }
 ],
 "metadata": {
  "kernelspec": {
   "display_name": "Python 3",
   "language": "python",
   "name": "python3"
  },
  "language_info": {
   "codemirror_mode": {
    "name": "ipython",
    "version": 3
   },
   "file_extension": ".py",
   "mimetype": "text/x-python",
   "name": "python",
   "nbconvert_exporter": "python",
   "pygments_lexer": "ipython3",
   "version": "3.7.6"
  }
 },
 "nbformat": 4,
 "nbformat_minor": 4
}
