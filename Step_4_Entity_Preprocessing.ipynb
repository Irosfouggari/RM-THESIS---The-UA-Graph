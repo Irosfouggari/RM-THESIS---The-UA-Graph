{
 "cells": [
  {
   "cell_type": "code",
   "execution_count": 1,
   "metadata": {},
   "outputs": [],
   "source": [
    "import numpy as np\n",
    "import pandas as pd\n"
   ]
  },
  {
   "cell_type": "markdown",
   "metadata": {},
   "source": [
    "Prepare the Disease entities for insertion into Neo4j"
   ]
  },
  {
   "cell_type": "code",
   "execution_count": 3,
   "metadata": {},
   "outputs": [],
   "source": [
    "data = pd. read_csv(\"C:/Users/Iro Sfoungari/Desktop/THESIS DATA/FINAL_DATABASE/Entities/bc5cdr.csv\")\n"
   ]
  },
  {
   "cell_type": "code",
   "execution_count": 7,
   "metadata": {},
   "outputs": [
    {
     "data": {
      "text/html": [
       "<div>\n",
       "<style scoped>\n",
       "    .dataframe tbody tr th:only-of-type {\n",
       "        vertical-align: middle;\n",
       "    }\n",
       "\n",
       "    .dataframe tbody tr th {\n",
       "        vertical-align: top;\n",
       "    }\n",
       "\n",
       "    .dataframe thead th {\n",
       "        text-align: right;\n",
       "    }\n",
       "</style>\n",
       "<table border=\"1\" class=\"dataframe\">\n",
       "  <thead>\n",
       "    <tr style=\"text-align: right;\">\n",
       "      <th></th>\n",
       "      <th>cord_uid</th>\n",
       "      <th>Entity</th>\n",
       "      <th>Class</th>\n",
       "    </tr>\n",
       "  </thead>\n",
       "  <tbody>\n",
       "    <tr>\n",
       "      <th>0</th>\n",
       "      <td>ug7v899j</td>\n",
       "      <td>Mycoplasma pneumoniae infections</td>\n",
       "      <td>DISEASE</td>\n",
       "    </tr>\n",
       "    <tr>\n",
       "      <th>1</th>\n",
       "      <td>ug7v899j</td>\n",
       "      <td>pneumoniae</td>\n",
       "      <td>DISEASE</td>\n",
       "    </tr>\n",
       "    <tr>\n",
       "      <th>2</th>\n",
       "      <td>ug7v899j</td>\n",
       "      <td>infections</td>\n",
       "      <td>DISEASE</td>\n",
       "    </tr>\n",
       "    <tr>\n",
       "      <th>3</th>\n",
       "      <td>ug7v899j</td>\n",
       "      <td>community-acquired</td>\n",
       "      <td>DISEASE</td>\n",
       "    </tr>\n",
       "    <tr>\n",
       "      <th>4</th>\n",
       "      <td>ug7v899j</td>\n",
       "      <td>infection</td>\n",
       "      <td>DISEASE</td>\n",
       "    </tr>\n",
       "    <tr>\n",
       "      <th>5</th>\n",
       "      <td>ug7v899j</td>\n",
       "      <td>pneumonia</td>\n",
       "      <td>DISEASE</td>\n",
       "    </tr>\n",
       "    <tr>\n",
       "      <th>6</th>\n",
       "      <td>ug7v899j</td>\n",
       "      <td>upper respiratory tract infections</td>\n",
       "      <td>DISEASE</td>\n",
       "    </tr>\n",
       "    <tr>\n",
       "      <th>7</th>\n",
       "      <td>ug7v899j</td>\n",
       "      <td>bronchiolitis</td>\n",
       "      <td>DISEASE</td>\n",
       "    </tr>\n",
       "    <tr>\n",
       "      <th>8</th>\n",
       "      <td>ug7v899j</td>\n",
       "      <td>Cough</td>\n",
       "      <td>DISEASE</td>\n",
       "    </tr>\n",
       "    <tr>\n",
       "      <th>9</th>\n",
       "      <td>ug7v899j</td>\n",
       "      <td>fever</td>\n",
       "      <td>DISEASE</td>\n",
       "    </tr>\n",
       "    <tr>\n",
       "      <th>10</th>\n",
       "      <td>ug7v899j</td>\n",
       "      <td>wheezes</td>\n",
       "      <td>DISEASE</td>\n",
       "    </tr>\n",
       "    <tr>\n",
       "      <th>11</th>\n",
       "      <td>ug7v899j</td>\n",
       "      <td>pneumonia</td>\n",
       "      <td>DISEASE</td>\n",
       "    </tr>\n",
       "    <tr>\n",
       "      <th>12</th>\n",
       "      <td>ug7v899j</td>\n",
       "      <td>Immunocompromised</td>\n",
       "      <td>DISEASE</td>\n",
       "    </tr>\n",
       "    <tr>\n",
       "      <th>13</th>\n",
       "      <td>ug7v899j</td>\n",
       "      <td>pneumonia</td>\n",
       "      <td>DISEASE</td>\n",
       "    </tr>\n",
       "    <tr>\n",
       "      <th>14</th>\n",
       "      <td>ug7v899j</td>\n",
       "      <td>pneumonia</td>\n",
       "      <td>DISEASE</td>\n",
       "    </tr>\n",
       "    <tr>\n",
       "      <th>15</th>\n",
       "      <td>ug7v899j</td>\n",
       "      <td>pneumoniae infection</td>\n",
       "      <td>DISEASE</td>\n",
       "    </tr>\n",
       "    <tr>\n",
       "      <th>16</th>\n",
       "      <td>ug7v899j</td>\n",
       "      <td>pneumoniae pneumonia</td>\n",
       "      <td>DISEASE</td>\n",
       "    </tr>\n",
       "    <tr>\n",
       "      <th>17</th>\n",
       "      <td>ug7v899j</td>\n",
       "      <td>infections</td>\n",
       "      <td>DISEASE</td>\n",
       "    </tr>\n",
       "    <tr>\n",
       "      <th>18</th>\n",
       "      <td>ug7v899j</td>\n",
       "      <td>pneumonia</td>\n",
       "      <td>DISEASE</td>\n",
       "    </tr>\n",
       "    <tr>\n",
       "      <th>19</th>\n",
       "      <td>02tnwd4m</td>\n",
       "      <td>nitric oxide</td>\n",
       "      <td>CHEMICAL</td>\n",
       "    </tr>\n",
       "  </tbody>\n",
       "</table>\n",
       "</div>"
      ],
      "text/plain": [
       "    cord_uid                              Entity     Class\n",
       "0   ug7v899j    Mycoplasma pneumoniae infections   DISEASE\n",
       "1   ug7v899j                          pneumoniae   DISEASE\n",
       "2   ug7v899j                          infections   DISEASE\n",
       "3   ug7v899j                  community-acquired   DISEASE\n",
       "4   ug7v899j                           infection   DISEASE\n",
       "5   ug7v899j                           pneumonia   DISEASE\n",
       "6   ug7v899j  upper respiratory tract infections   DISEASE\n",
       "7   ug7v899j                       bronchiolitis   DISEASE\n",
       "8   ug7v899j                               Cough   DISEASE\n",
       "9   ug7v899j                               fever   DISEASE\n",
       "10  ug7v899j                             wheezes   DISEASE\n",
       "11  ug7v899j                           pneumonia   DISEASE\n",
       "12  ug7v899j                   Immunocompromised   DISEASE\n",
       "13  ug7v899j                           pneumonia   DISEASE\n",
       "14  ug7v899j                           pneumonia   DISEASE\n",
       "15  ug7v899j                pneumoniae infection   DISEASE\n",
       "16  ug7v899j                pneumoniae pneumonia   DISEASE\n",
       "17  ug7v899j                          infections   DISEASE\n",
       "18  ug7v899j                           pneumonia   DISEASE\n",
       "19  02tnwd4m                        nitric oxide  CHEMICAL"
      ]
     },
     "execution_count": 7,
     "metadata": {},
     "output_type": "execute_result"
    }
   ],
   "source": [
    "data.head(20)"
   ]
  },
  {
   "cell_type": "markdown",
   "metadata": {},
   "source": [
    "I want to keep only disease entitites, no chemical"
   ]
  },
  {
   "cell_type": "code",
   "execution_count": 8,
   "metadata": {},
   "outputs": [],
   "source": [
    "df=data[data['Class'].str.contains(\"DISEASE\")]"
   ]
  },
  {
   "cell_type": "markdown",
   "metadata": {},
   "source": [
    "group entities by cord_uid"
   ]
  },
  {
   "cell_type": "code",
   "execution_count": 10,
   "metadata": {},
   "outputs": [],
   "source": [
    "data2=df.groupby('cord_uid', sort=False).Entity.unique().agg(', '.join).reset_index()\n"
   ]
  },
  {
   "cell_type": "code",
   "execution_count": 13,
   "metadata": {},
   "outputs": [
    {
     "data": {
      "text/html": [
       "<div>\n",
       "<style scoped>\n",
       "    .dataframe tbody tr th:only-of-type {\n",
       "        vertical-align: middle;\n",
       "    }\n",
       "\n",
       "    .dataframe tbody tr th {\n",
       "        vertical-align: top;\n",
       "    }\n",
       "\n",
       "    .dataframe thead th {\n",
       "        text-align: right;\n",
       "    }\n",
       "</style>\n",
       "<table border=\"1\" class=\"dataframe\">\n",
       "  <thead>\n",
       "    <tr style=\"text-align: right;\">\n",
       "      <th></th>\n",
       "      <th>cord_uid</th>\n",
       "      <th>Entity</th>\n",
       "    </tr>\n",
       "  </thead>\n",
       "  <tbody>\n",
       "    <tr>\n",
       "      <th>0</th>\n",
       "      <td>ug7v899j</td>\n",
       "      <td>Mycoplasma pneumoniae infections, pneumoniae, ...</td>\n",
       "    </tr>\n",
       "    <tr>\n",
       "      <th>1</th>\n",
       "      <td>02tnwd4m</td>\n",
       "      <td>lung injury, inflammation</td>\n",
       "    </tr>\n",
       "    <tr>\n",
       "      <th>2</th>\n",
       "      <td>ejv2xln0</td>\n",
       "      <td>gastrointestinal and genitourinary tracts, emp...</td>\n",
       "    </tr>\n",
       "    <tr>\n",
       "      <th>3</th>\n",
       "      <td>2b73a28n</td>\n",
       "      <td>inflammatory lung diseases, lung disease</td>\n",
       "    </tr>\n",
       "    <tr>\n",
       "      <th>4</th>\n",
       "      <td>9785vg6d</td>\n",
       "      <td>Respiratory syncytial virus, pneumonia, respir...</td>\n",
       "    </tr>\n",
       "  </tbody>\n",
       "</table>\n",
       "</div>"
      ],
      "text/plain": [
       "   cord_uid                                             Entity\n",
       "0  ug7v899j  Mycoplasma pneumoniae infections, pneumoniae, ...\n",
       "1  02tnwd4m                          lung injury, inflammation\n",
       "2  ejv2xln0  gastrointestinal and genitourinary tracts, emp...\n",
       "3  2b73a28n           inflammatory lung diseases, lung disease\n",
       "4  9785vg6d  Respiratory syncytial virus, pneumonia, respir..."
      ]
     },
     "execution_count": 13,
     "metadata": {},
     "output_type": "execute_result"
    }
   ],
   "source": [
    "data2.head(5)"
   ]
  },
  {
   "cell_type": "code",
   "execution_count": 14,
   "metadata": {},
   "outputs": [],
   "source": [
    "data2['Class'] = \"Disease\" \n"
   ]
  },
  {
   "cell_type": "code",
   "execution_count": 15,
   "metadata": {},
   "outputs": [
    {
     "data": {
      "text/html": [
       "<div>\n",
       "<style scoped>\n",
       "    .dataframe tbody tr th:only-of-type {\n",
       "        vertical-align: middle;\n",
       "    }\n",
       "\n",
       "    .dataframe tbody tr th {\n",
       "        vertical-align: top;\n",
       "    }\n",
       "\n",
       "    .dataframe thead th {\n",
       "        text-align: right;\n",
       "    }\n",
       "</style>\n",
       "<table border=\"1\" class=\"dataframe\">\n",
       "  <thead>\n",
       "    <tr style=\"text-align: right;\">\n",
       "      <th></th>\n",
       "      <th>cord_uid</th>\n",
       "      <th>Entity</th>\n",
       "      <th>Class</th>\n",
       "    </tr>\n",
       "  </thead>\n",
       "  <tbody>\n",
       "    <tr>\n",
       "      <th>0</th>\n",
       "      <td>ug7v899j</td>\n",
       "      <td>Mycoplasma pneumoniae infections, pneumoniae, ...</td>\n",
       "      <td>Disease</td>\n",
       "    </tr>\n",
       "    <tr>\n",
       "      <th>1</th>\n",
       "      <td>02tnwd4m</td>\n",
       "      <td>lung injury, inflammation</td>\n",
       "      <td>Disease</td>\n",
       "    </tr>\n",
       "    <tr>\n",
       "      <th>2</th>\n",
       "      <td>ejv2xln0</td>\n",
       "      <td>gastrointestinal and genitourinary tracts, emp...</td>\n",
       "      <td>Disease</td>\n",
       "    </tr>\n",
       "    <tr>\n",
       "      <th>3</th>\n",
       "      <td>2b73a28n</td>\n",
       "      <td>inflammatory lung diseases, lung disease</td>\n",
       "      <td>Disease</td>\n",
       "    </tr>\n",
       "    <tr>\n",
       "      <th>4</th>\n",
       "      <td>9785vg6d</td>\n",
       "      <td>Respiratory syncytial virus, pneumonia, respir...</td>\n",
       "      <td>Disease</td>\n",
       "    </tr>\n",
       "  </tbody>\n",
       "</table>\n",
       "</div>"
      ],
      "text/plain": [
       "   cord_uid                                             Entity    Class\n",
       "0  ug7v899j  Mycoplasma pneumoniae infections, pneumoniae, ...  Disease\n",
       "1  02tnwd4m                          lung injury, inflammation  Disease\n",
       "2  ejv2xln0  gastrointestinal and genitourinary tracts, emp...  Disease\n",
       "3  2b73a28n           inflammatory lung diseases, lung disease  Disease\n",
       "4  9785vg6d  Respiratory syncytial virus, pneumonia, respir...  Disease"
      ]
     },
     "execution_count": 15,
     "metadata": {},
     "output_type": "execute_result"
    }
   ],
   "source": [
    "data2.head(5)"
   ]
  },
  {
   "cell_type": "code",
   "execution_count": 9,
   "metadata": {},
   "outputs": [],
   "source": [
    "data21 = data2.to_csv(r'C:/Users/Iro Sfoungari/Desktop/THESIS DATA/FINAL_DATABASE/Entities/Disease_Entities.csv', index = False)"
   ]
  },
  {
   "cell_type": "markdown",
   "metadata": {},
   "source": [
    "Prepare the Protein entities for insertion into Ne4j"
   ]
  },
  {
   "cell_type": "code",
   "execution_count": 16,
   "metadata": {},
   "outputs": [],
   "source": [
    "data2= pd. read_csv(\"C:/Users/Iro Sfoungari/Desktop/THESIS DATA/FINAL_DATABASE/Entities/craft_md.csv\")#Sort out blank abstracts\n"
   ]
  },
  {
   "cell_type": "code",
   "execution_count": 18,
   "metadata": {},
   "outputs": [
    {
     "data": {
      "text/html": [
       "<div>\n",
       "<style scoped>\n",
       "    .dataframe tbody tr th:only-of-type {\n",
       "        vertical-align: middle;\n",
       "    }\n",
       "\n",
       "    .dataframe tbody tr th {\n",
       "        vertical-align: top;\n",
       "    }\n",
       "\n",
       "    .dataframe thead th {\n",
       "        text-align: right;\n",
       "    }\n",
       "</style>\n",
       "<table border=\"1\" class=\"dataframe\">\n",
       "  <thead>\n",
       "    <tr style=\"text-align: right;\">\n",
       "      <th></th>\n",
       "      <th>cord_uid</th>\n",
       "      <th>Entity</th>\n",
       "      <th>Class</th>\n",
       "    </tr>\n",
       "  </thead>\n",
       "  <tbody>\n",
       "    <tr>\n",
       "      <th>0</th>\n",
       "      <td>02tnwd4m</td>\n",
       "      <td>nitric oxide</td>\n",
       "      <td>CHEBI</td>\n",
       "    </tr>\n",
       "    <tr>\n",
       "      <th>1</th>\n",
       "      <td>02tnwd4m</td>\n",
       "      <td>NO•</td>\n",
       "      <td>GGP</td>\n",
       "    </tr>\n",
       "    <tr>\n",
       "      <th>2</th>\n",
       "      <td>02tnwd4m</td>\n",
       "      <td>NO•</td>\n",
       "      <td>GGP</td>\n",
       "    </tr>\n",
       "    <tr>\n",
       "      <th>3</th>\n",
       "      <td>02tnwd4m</td>\n",
       "      <td>NO•</td>\n",
       "      <td>GGP</td>\n",
       "    </tr>\n",
       "    <tr>\n",
       "      <th>4</th>\n",
       "      <td>02tnwd4m</td>\n",
       "      <td>NO•</td>\n",
       "      <td>GGP</td>\n",
       "    </tr>\n",
       "  </tbody>\n",
       "</table>\n",
       "</div>"
      ],
      "text/plain": [
       "   cord_uid        Entity  Class\n",
       "0  02tnwd4m  nitric oxide  CHEBI\n",
       "1  02tnwd4m           NO•    GGP\n",
       "2  02tnwd4m           NO•    GGP\n",
       "3  02tnwd4m           NO•    GGP\n",
       "4  02tnwd4m           NO•    GGP"
      ]
     },
     "execution_count": 18,
     "metadata": {},
     "output_type": "execute_result"
    }
   ],
   "source": [
    "data2.head(5)"
   ]
  },
  {
   "cell_type": "code",
   "execution_count": 19,
   "metadata": {},
   "outputs": [
    {
     "data": {
      "text/plain": [
       "1781909"
      ]
     },
     "execution_count": 19,
     "metadata": {},
     "output_type": "execute_result"
    }
   ],
   "source": [
    "len(data2)"
   ]
  },
  {
   "cell_type": "code",
   "execution_count": 20,
   "metadata": {},
   "outputs": [],
   "source": [
    "#data22=data2[data2['Class'].str.contains(\"TISSUE\")]"
   ]
  },
  {
   "cell_type": "code",
   "execution_count": 21,
   "metadata": {},
   "outputs": [],
   "source": [
    "data22=data2[data2['Class'] == \"TAXON\"] "
   ]
  },
  {
   "cell_type": "code",
   "execution_count": 22,
   "metadata": {},
   "outputs": [
    {
     "data": {
      "text/html": [
       "<div>\n",
       "<style scoped>\n",
       "    .dataframe tbody tr th:only-of-type {\n",
       "        vertical-align: middle;\n",
       "    }\n",
       "\n",
       "    .dataframe tbody tr th {\n",
       "        vertical-align: top;\n",
       "    }\n",
       "\n",
       "    .dataframe thead th {\n",
       "        text-align: right;\n",
       "    }\n",
       "</style>\n",
       "<table border=\"1\" class=\"dataframe\">\n",
       "  <thead>\n",
       "    <tr style=\"text-align: right;\">\n",
       "      <th></th>\n",
       "      <th>cord_uid</th>\n",
       "      <th>Entity</th>\n",
       "      <th>Class</th>\n",
       "    </tr>\n",
       "  </thead>\n",
       "  <tbody>\n",
       "    <tr>\n",
       "      <th>11</th>\n",
       "      <td>ejv2xln0</td>\n",
       "      <td>microorganisms</td>\n",
       "      <td>TAXON</td>\n",
       "    </tr>\n",
       "    <tr>\n",
       "      <th>18</th>\n",
       "      <td>ejv2xln0</td>\n",
       "      <td>microorganisms</td>\n",
       "      <td>TAXON</td>\n",
       "    </tr>\n",
       "    <tr>\n",
       "      <th>31</th>\n",
       "      <td>ejv2xln0</td>\n",
       "      <td>viruses</td>\n",
       "      <td>TAXON</td>\n",
       "    </tr>\n",
       "  </tbody>\n",
       "</table>\n",
       "</div>"
      ],
      "text/plain": [
       "    cord_uid          Entity  Class\n",
       "11  ejv2xln0  microorganisms  TAXON\n",
       "18  ejv2xln0  microorganisms  TAXON\n",
       "31  ejv2xln0         viruses  TAXON"
      ]
     },
     "execution_count": 22,
     "metadata": {},
     "output_type": "execute_result"
    }
   ],
   "source": [
    "data22.head(3)"
   ]
  },
  {
   "cell_type": "code",
   "execution_count": 24,
   "metadata": {},
   "outputs": [],
   "source": [
    "#data22['Entity'] = data22['Entity'].astype(str)"
   ]
  },
  {
   "cell_type": "code",
   "execution_count": 25,
   "metadata": {},
   "outputs": [
    {
     "data": {
      "text/plain": [
       "572533"
      ]
     },
     "execution_count": 25,
     "metadata": {},
     "output_type": "execute_result"
    }
   ],
   "source": [
    "len(data22)"
   ]
  },
  {
   "cell_type": "code",
   "execution_count": 26,
   "metadata": {},
   "outputs": [],
   "source": [
    "data22=data22.groupby('cord_uid', sort=False).Entity.unique().agg(', '.join).reset_index()\n"
   ]
  },
  {
   "cell_type": "code",
   "execution_count": 27,
   "metadata": {},
   "outputs": [
    {
     "data": {
      "text/html": [
       "<div>\n",
       "<style scoped>\n",
       "    .dataframe tbody tr th:only-of-type {\n",
       "        vertical-align: middle;\n",
       "    }\n",
       "\n",
       "    .dataframe tbody tr th {\n",
       "        vertical-align: top;\n",
       "    }\n",
       "\n",
       "    .dataframe thead th {\n",
       "        text-align: right;\n",
       "    }\n",
       "</style>\n",
       "<table border=\"1\" class=\"dataframe\">\n",
       "  <thead>\n",
       "    <tr style=\"text-align: right;\">\n",
       "      <th></th>\n",
       "      <th>cord_uid</th>\n",
       "      <th>Entity</th>\n",
       "    </tr>\n",
       "  </thead>\n",
       "  <tbody>\n",
       "    <tr>\n",
       "      <th>0</th>\n",
       "      <td>ejv2xln0</td>\n",
       "      <td>microorganisms, viruses, bacterial lipopolysac...</td>\n",
       "    </tr>\n",
       "    <tr>\n",
       "      <th>1</th>\n",
       "      <td>9785vg6d</td>\n",
       "      <td>virus, mice, viruses, pneumovirus, humans, rod...</td>\n",
       "    </tr>\n",
       "    <tr>\n",
       "      <th>2</th>\n",
       "      <td>zjufx4fo</td>\n",
       "      <td>equine, virus TRSs</td>\n",
       "    </tr>\n",
       "  </tbody>\n",
       "</table>\n",
       "</div>"
      ],
      "text/plain": [
       "   cord_uid                                             Entity\n",
       "0  ejv2xln0  microorganisms, viruses, bacterial lipopolysac...\n",
       "1  9785vg6d  virus, mice, viruses, pneumovirus, humans, rod...\n",
       "2  zjufx4fo                                 equine, virus TRSs"
      ]
     },
     "execution_count": 27,
     "metadata": {},
     "output_type": "execute_result"
    }
   ],
   "source": [
    "data22.head(3)"
   ]
  },
  {
   "cell_type": "code",
   "execution_count": 28,
   "metadata": {},
   "outputs": [],
   "source": [
    "data22['Class'] = \"Taxon\" \n"
   ]
  },
  {
   "cell_type": "code",
   "execution_count": 29,
   "metadata": {},
   "outputs": [
    {
     "data": {
      "text/html": [
       "<div>\n",
       "<style scoped>\n",
       "    .dataframe tbody tr th:only-of-type {\n",
       "        vertical-align: middle;\n",
       "    }\n",
       "\n",
       "    .dataframe tbody tr th {\n",
       "        vertical-align: top;\n",
       "    }\n",
       "\n",
       "    .dataframe thead th {\n",
       "        text-align: right;\n",
       "    }\n",
       "</style>\n",
       "<table border=\"1\" class=\"dataframe\">\n",
       "  <thead>\n",
       "    <tr style=\"text-align: right;\">\n",
       "      <th></th>\n",
       "      <th>cord_uid</th>\n",
       "      <th>Entity</th>\n",
       "      <th>Class</th>\n",
       "    </tr>\n",
       "  </thead>\n",
       "  <tbody>\n",
       "    <tr>\n",
       "      <th>0</th>\n",
       "      <td>ejv2xln0</td>\n",
       "      <td>microorganisms, viruses, bacterial lipopolysac...</td>\n",
       "      <td>Taxon</td>\n",
       "    </tr>\n",
       "    <tr>\n",
       "      <th>1</th>\n",
       "      <td>9785vg6d</td>\n",
       "      <td>virus, mice, viruses, pneumovirus, humans, rod...</td>\n",
       "      <td>Taxon</td>\n",
       "    </tr>\n",
       "  </tbody>\n",
       "</table>\n",
       "</div>"
      ],
      "text/plain": [
       "   cord_uid                                             Entity  Class\n",
       "0  ejv2xln0  microorganisms, viruses, bacterial lipopolysac...  Taxon\n",
       "1  9785vg6d  virus, mice, viruses, pneumovirus, humans, rod...  Taxon"
      ]
     },
     "execution_count": 29,
     "metadata": {},
     "output_type": "execute_result"
    }
   ],
   "source": [
    "data22.head(2)"
   ]
  },
  {
   "cell_type": "code",
   "execution_count": 30,
   "metadata": {},
   "outputs": [],
   "source": [
    "data22.to_csv(r'C:/Users/Iro Sfoungari/Desktop/THESIS DATA/FINAL_DATABASE/Entities/Taxon_Entities.csv', index = False)"
   ]
  },
  {
   "cell_type": "markdown",
   "metadata": {},
   "source": [
    "I worked like this for all the other entities"
   ]
  },
  {
   "cell_type": "code",
   "execution_count": null,
   "metadata": {},
   "outputs": [],
   "source": []
  }
 ],
 "metadata": {
  "kernelspec": {
   "display_name": "Python 3",
   "language": "python",
   "name": "python3"
  },
  "language_info": {
   "codemirror_mode": {
    "name": "ipython",
    "version": 3
   },
   "file_extension": ".py",
   "mimetype": "text/x-python",
   "name": "python",
   "nbconvert_exporter": "python",
   "pygments_lexer": "ipython3",
   "version": "3.7.6"
  }
 },
 "nbformat": 4,
 "nbformat_minor": 4
}
